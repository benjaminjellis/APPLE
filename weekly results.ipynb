{
 "cells": [
  {
   "cell_type": "code",
   "execution_count": 1,
   "metadata": {},
   "outputs": [],
   "source": [
    "from analytics.results import Results, Predictions"
   ]
  },
  {
   "cell_type": "markdown",
   "metadata": {},
   "source": [
    "## This Week's Predictions"
   ]
  },
  {
   "cell_type": "code",
   "execution_count": 2,
   "metadata": {},
   "outputs": [
    {
     "data": {
      "text/html": [
       "<div>\n",
       "<style scoped>\n",
       "    .dataframe tbody tr th:only-of-type {\n",
       "        vertical-align: middle;\n",
       "    }\n",
       "\n",
       "    .dataframe tbody tr th {\n",
       "        vertical-align: top;\n",
       "    }\n",
       "\n",
       "    .dataframe thead th {\n",
       "        text-align: right;\n",
       "    }\n",
       "</style>\n",
       "<table border=\"1\" class=\"dataframe\">\n",
       "  <thead>\n",
       "    <tr style=\"text-align: right;\">\n",
       "      <th></th>\n",
       "      <th>Fixture</th>\n",
       "      <th>Date</th>\n",
       "      <th>APPLE Prediction</th>\n",
       "      <th>DD Prediction</th>\n",
       "      <th>JR Prediction</th>\n",
       "      <th>LC Prediction</th>\n",
       "      <th>MW Prediction</th>\n",
       "    </tr>\n",
       "  </thead>\n",
       "  <tbody>\n",
       "    <tr>\n",
       "      <th>0</th>\n",
       "      <td>Fulham v Arsenal</td>\n",
       "      <td>09/12/2020</td>\n",
       "      <td>A</td>\n",
       "      <td>A</td>\n",
       "      <td>A</td>\n",
       "      <td>A</td>\n",
       "      <td>A</td>\n",
       "    </tr>\n",
       "    <tr>\n",
       "      <th>1</th>\n",
       "      <td>Crystal Palace v Southampton</td>\n",
       "      <td>09/12/2020</td>\n",
       "      <td>A</td>\n",
       "      <td>D</td>\n",
       "      <td>D</td>\n",
       "      <td>H</td>\n",
       "      <td>A</td>\n",
       "    </tr>\n",
       "    <tr>\n",
       "      <th>2</th>\n",
       "      <td>West Ham v Newcastle</td>\n",
       "      <td>09/12/2020</td>\n",
       "      <td>H</td>\n",
       "      <td>A</td>\n",
       "      <td>A</td>\n",
       "      <td>H</td>\n",
       "      <td>A</td>\n",
       "    </tr>\n",
       "    <tr>\n",
       "      <th>3</th>\n",
       "      <td>Liverpool v Leeds</td>\n",
       "      <td>09/12/2020</td>\n",
       "      <td>H</td>\n",
       "      <td>H</td>\n",
       "      <td>H</td>\n",
       "      <td>H</td>\n",
       "      <td>H</td>\n",
       "    </tr>\n",
       "    <tr>\n",
       "      <th>4</th>\n",
       "      <td>West Brom v Leicester</td>\n",
       "      <td>13/09/2020</td>\n",
       "      <td>H</td>\n",
       "      <td>D</td>\n",
       "      <td>A</td>\n",
       "      <td>A</td>\n",
       "      <td>A</td>\n",
       "    </tr>\n",
       "    <tr>\n",
       "      <th>5</th>\n",
       "      <td>Tottenham v Everton</td>\n",
       "      <td>13/09/2020</td>\n",
       "      <td>H</td>\n",
       "      <td>A</td>\n",
       "      <td>H</td>\n",
       "      <td>H</td>\n",
       "      <td>D</td>\n",
       "    </tr>\n",
       "    <tr>\n",
       "      <th>6</th>\n",
       "      <td>Brighton v Chelsea</td>\n",
       "      <td>14/09/2020</td>\n",
       "      <td>A</td>\n",
       "      <td>D</td>\n",
       "      <td>A</td>\n",
       "      <td>A</td>\n",
       "      <td>A</td>\n",
       "    </tr>\n",
       "  </tbody>\n",
       "</table>\n",
       "</div>"
      ],
      "text/plain": [
       "                        Fixture        Date APPLE Prediction DD Prediction  \\\n",
       "0              Fulham v Arsenal  09/12/2020                A             A   \n",
       "1  Crystal Palace v Southampton  09/12/2020                A             D   \n",
       "2          West Ham v Newcastle  09/12/2020                H             A   \n",
       "3             Liverpool v Leeds  09/12/2020                H             H   \n",
       "4         West Brom v Leicester  13/09/2020                H             D   \n",
       "5           Tottenham v Everton  13/09/2020                H             A   \n",
       "6            Brighton v Chelsea  14/09/2020                A             D   \n",
       "\n",
       "  JR Prediction LC Prediction MW Prediction  \n",
       "0             A             A             A  \n",
       "1             D             H             A  \n",
       "2             A             H             A  \n",
       "3             H             H             H  \n",
       "4             A             A             A  \n",
       "5             H             H             D  \n",
       "6             A             A             A  "
      ]
     },
     "metadata": {},
     "output_type": "display_data"
    }
   ],
   "source": [
    "Predictions(user_predictions = \"data/user_predictions/20_21/week1/week1userpredictions.csv\",\n",
    "        apple_predictions =\n",
    "        \"results/20_21/week1/1452a306-e499-11ea-a584-acde48001122_predicted_results.csv\",\n",
    "        aggregated_results_file = \"data/aggregated_results/20_21/predictions_and_results_log.csv\").show()"
   ]
  },
  {
   "cell_type": "markdown",
   "metadata": {},
   "source": [
    "## Last Week's Results"
   ]
  },
  {
   "cell_type": "code",
   "execution_count": 5,
   "metadata": {},
   "outputs": [
    {
     "data": {
      "text/plain": [
       "'\\nResults(user_predictions = \"data/user_predictions/20_21/week1/week1userpredictions.csv\",\\n        apple_predictions =\\n        \"results/20_21/week1/1452a306-e499-11ea-a584-acde48001122_predicted_results.csv\",\\n        aggregated_results_file = \"data/aggregated_results/20_21/predictions_and_results_log.csv\").aggregate(\\n        ftrs = \"data/ftrs/20_21/week1/week1ftrs.csv\",\\n        winners_log = \"data/aggregated_results/20_21/winners_log.csv\")\\n'"
      ]
     },
     "execution_count": 5,
     "metadata": {},
     "output_type": "execute_result"
    }
   ],
   "source": [
    "\"\"\"\n",
    "Results(user_predictions = \"data/user_predictions/20_21/week1/week1userpredictions.csv\",\n",
    "        apple_predictions =\n",
    "        \"results/20_21/week1/1452a306-e499-11ea-a584-acde48001122_predicted_results.csv\",\n",
    "        aggregated_results_file = \"data/aggregated_results/20_21/predictions_and_results_log.csv\").aggregate(\n",
    "        ftrs = \"data/ftrs/20_21/week1/week1ftrs.csv\",\n",
    "        winners_log = \"data/aggregated_results/20_21/winners_log.csv\")\n",
    "\"\"\""
   ]
  },
  {
   "cell_type": "code",
   "execution_count": null,
   "metadata": {},
   "outputs": [],
   "source": []
  }
 ],
 "metadata": {
  "kernelspec": {
   "display_name": "APPLE",
   "language": "python",
   "name": "apple"
  },
  "language_info": {
   "codemirror_mode": {
    "name": "ipython",
    "version": 3
   },
   "file_extension": ".py",
   "mimetype": "text/x-python",
   "name": "python",
   "nbconvert_exporter": "python",
   "pygments_lexer": "ipython3",
   "version": "3.6.10"
  }
 },
 "nbformat": 4,
 "nbformat_minor": 4
}
